{
 "cells": [
  {
   "cell_type": "code",
   "execution_count": 1,
   "id": "b2f26d9d-4a69-4777-8a84-689fc291dc34",
   "metadata": {},
   "outputs": [],
   "source": [
    "words = ['eating','eats','eaten','writing','writes','programming','programs','finally','finalize','history']"
   ]
  },
  {
   "cell_type": "markdown",
   "id": "57774cdf-6251-4ee2-aaa8-ea910643d03a",
   "metadata": {},
   "source": [
    "# Porter Stemmer"
   ]
  },
  {
   "cell_type": "code",
   "execution_count": 2,
   "id": "b66d1494-2547-4e30-b307-de21f4a72342",
   "metadata": {},
   "outputs": [],
   "source": [
    "from nltk.stem import PorterStemmer\n",
    "stemming = PorterStemmer()"
   ]
  },
  {
   "cell_type": "code",
   "execution_count": 3,
   "id": "045b233c-757a-4012-84dd-55f549d69921",
   "metadata": {},
   "outputs": [
    {
     "name": "stdout",
     "output_type": "stream",
     "text": [
      "eating--> eat\n",
      "eats--> eat\n",
      "eaten--> eaten\n",
      "writing--> write\n",
      "writes--> write\n",
      "programming--> program\n",
      "programs--> program\n",
      "finally--> final\n",
      "finalize--> final\n",
      "history--> histori\n"
     ]
    }
   ],
   "source": [
    "for w in words:\n",
    "    print(w+'--> '+stemming.stem(w))"
   ]
  },
  {
   "cell_type": "code",
   "execution_count": 4,
   "id": "a17cce1b-6dd4-45a8-b1be-acd85854ce17",
   "metadata": {},
   "outputs": [
    {
     "data": {
      "text/plain": [
       "'congratul'"
      ]
     },
     "execution_count": 4,
     "metadata": {},
     "output_type": "execute_result"
    }
   ],
   "source": [
    "stemming.stem('congratulations') #meaningless"
   ]
  },
  {
   "cell_type": "code",
   "execution_count": 5,
   "id": "5d8d5ca4-3450-4609-9a8e-c141edfe0606",
   "metadata": {},
   "outputs": [],
   "source": [
    "from nltk.stem import RegexpStemmer"
   ]
  },
  {
   "cell_type": "code",
   "execution_count": 6,
   "id": "5e3cb3ab-489e-4b71-97f2-f2fecceb8d8e",
   "metadata": {},
   "outputs": [],
   "source": [
    "reg_stem = RegexpStemmer('ing|s$|e$|able$|en$', min=4)"
   ]
  },
  {
   "cell_type": "code",
   "execution_count": 7,
   "id": "2ff016f5-e2a0-4c7f-862e-d5c46f9cec32",
   "metadata": {},
   "outputs": [
    {
     "data": {
      "text/plain": [
       "'eatenen'"
      ]
     },
     "execution_count": 7,
     "metadata": {},
     "output_type": "execute_result"
    }
   ],
   "source": [
    "reg_stem.stem('eatenene')"
   ]
  },
  {
   "cell_type": "code",
   "execution_count": 8,
   "id": "dc7af241-04c7-45f7-8a64-a0751b5ffa76",
   "metadata": {},
   "outputs": [
    {
     "data": {
      "text/plain": [
       "'eat'"
      ]
     },
     "execution_count": 8,
     "metadata": {},
     "output_type": "execute_result"
    }
   ],
   "source": [
    "reg_stem.stem('ingeating')"
   ]
  },
  {
   "cell_type": "markdown",
   "id": "9af2882e-b242-4f89-8233-ab2027783b82",
   "metadata": {},
   "source": [
    "# Snow Ball Stemmer"
   ]
  },
  {
   "cell_type": "code",
   "execution_count": 12,
   "id": "36afc94b-e479-48b3-be1d-0468db0172be",
   "metadata": {},
   "outputs": [],
   "source": [
    "from nltk.stem import SnowballStemmer\n",
    "snowball = SnowballStemmer('english')"
   ]
  },
  {
   "cell_type": "code",
   "execution_count": 13,
   "id": "054027c8-fbe6-484c-9e4b-2fc6050b110f",
   "metadata": {},
   "outputs": [
    {
     "name": "stdout",
     "output_type": "stream",
     "text": [
      "eating --> eat\n",
      "eats --> eat\n",
      "eaten --> eaten\n",
      "writing --> write\n",
      "writes --> write\n",
      "programming --> program\n",
      "programs --> program\n",
      "finally --> final\n",
      "finalize --> final\n",
      "history --> histori\n"
     ]
    }
   ],
   "source": [
    "for w in words:\n",
    "    print(w+\" --> \"+snowball.stem(w))"
   ]
  },
  {
   "cell_type": "code",
   "execution_count": 16,
   "id": "0b359928-5d29-4b55-9edc-a5f77328da72",
   "metadata": {},
   "outputs": [
    {
     "data": {
      "text/plain": [
       "('fairli', 'sportingli')"
      ]
     },
     "execution_count": 16,
     "metadata": {},
     "output_type": "execute_result"
    }
   ],
   "source": [
    "stemming.stem('fairly'),stemming.stem('sportingly')"
   ]
  },
  {
   "cell_type": "code",
   "execution_count": 15,
   "id": "7fe40845-5ca1-42f8-b41b-9de959fd7260",
   "metadata": {},
   "outputs": [
    {
     "data": {
      "text/plain": [
       "('fair', 'sport')"
      ]
     },
     "execution_count": 15,
     "metadata": {},
     "output_type": "execute_result"
    }
   ],
   "source": [
    "snowball.stem('fairly'),snowball.stem('sportingly')"
   ]
  },
  {
   "cell_type": "code",
   "execution_count": 18,
   "id": "c819c443-e209-4cc3-ab06-d4766d503629",
   "metadata": {},
   "outputs": [
    {
     "data": {
      "text/plain": [
       "'goe'"
      ]
     },
     "execution_count": 18,
     "metadata": {},
     "output_type": "execute_result"
    }
   ],
   "source": [
    "snowball.stem('goes')"
   ]
  }
 ],
 "metadata": {
  "kernelspec": {
   "display_name": "Python 3 (ipykernel)",
   "language": "python",
   "name": "python3"
  },
  "language_info": {
   "codemirror_mode": {
    "name": "ipython",
    "version": 3
   },
   "file_extension": ".py",
   "mimetype": "text/x-python",
   "name": "python",
   "nbconvert_exporter": "python",
   "pygments_lexer": "ipython3",
   "version": "3.12.10"
  }
 },
 "nbformat": 4,
 "nbformat_minor": 5
}

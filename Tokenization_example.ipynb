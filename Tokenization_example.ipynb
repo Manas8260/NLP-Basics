{
 "cells": [
  {
   "cell_type": "code",
   "execution_count": 2,
   "id": "57cacc8e-ca55-4a6a-a012-ec2e34807bc3",
   "metadata": {
    "collapsed": true,
    "jupyter": {
     "outputs_hidden": true
    }
   },
   "outputs": [],
   "source": [
    "#!pip install nltk"
   ]
  },
  {
   "cell_type": "code",
   "execution_count": 1,
   "id": "124a087a-7c00-40e5-9da1-6c52e9ac1c8d",
   "metadata": {
    "collapsed": true,
    "jupyter": {
     "outputs_hidden": true
    }
   },
   "outputs": [],
   "source": [
    "import nltk"
   ]
  },
  {
   "cell_type": "code",
   "execution_count": 23,
   "id": "364fbde4-0331-4319-93ab-8dfdb8ed5a95",
   "metadata": {
    "collapsed": true,
    "jupyter": {
     "outputs_hidden": true
    }
   },
   "outputs": [],
   "source": [
    "corpus = \"\"\"Happiness begins from the moment's you do something for others.\n",
    "Those who consistently help others, are happy, and do not come across any obstacles in their lives.\n",
    "Research indicates that they are less stressed and experience improved mental health.\n",
    "\"\"\""
   ]
  },
  {
   "cell_type": "code",
   "execution_count": 24,
   "id": "ebffa88a-b9b1-4653-8ac8-2f3e999c6024",
   "metadata": {
    "collapsed": true,
    "jupyter": {
     "outputs_hidden": true
    }
   },
   "outputs": [
    {
     "name": "stdout",
     "output_type": "stream",
     "text": [
      "Happiness begins from the moment's you do something for others.\n",
      "Those who consistently help others, are happy, and do not come across any obstacles in their lives.\n",
      "Research indicates that they are less stressed and experience improved mental health.\n",
      "\n"
     ]
    }
   ],
   "source": [
    "print(corpus)"
   ]
  },
  {
   "cell_type": "markdown",
   "id": "93f95360-379b-496f-81f6-3b81b78fc622",
   "metadata": {},
   "source": [
    "###  Paragraph -> Sentence"
   ]
  },
  {
   "cell_type": "code",
   "execution_count": 25,
   "id": "f2fc0c25-ee31-4fdc-af4e-766684ea11be",
   "metadata": {
    "collapsed": true,
    "jupyter": {
     "outputs_hidden": true
    }
   },
   "outputs": [],
   "source": [
    "from nltk.tokenize import sent_tokenize\n",
    "\n",
    "documents = sent_tokenize(corpus)"
   ]
  },
  {
   "cell_type": "code",
   "execution_count": 42,
   "id": "28f3acb5-ef67-4ce9-b4e8-c2c29165c7ef",
   "metadata": {},
   "outputs": [
    {
     "data": {
      "text/plain": [
       "\"Happiness begins from the moment's you do something for others.\""
      ]
     },
     "execution_count": 42,
     "metadata": {},
     "output_type": "execute_result"
    }
   ],
   "source": [
    "documents[0]"
   ]
  },
  {
   "cell_type": "code",
   "execution_count": 27,
   "id": "7a1fb460-178a-4c2e-9198-98263e435a6b",
   "metadata": {
    "collapsed": true,
    "jupyter": {
     "outputs_hidden": true
    }
   },
   "outputs": [
    {
     "name": "stdout",
     "output_type": "stream",
     "text": [
      "Happiness begins from the moment's you do something for others.\n",
      "Those who consistently help others, are happy, and do not come across any obstacles in their lives.\n",
      "Research indicates that they are less stressed and experience improved mental health.\n"
     ]
    }
   ],
   "source": [
    "for sent in documents:\n",
    "    print(sent)"
   ]
  },
  {
   "cell_type": "markdown",
   "id": "b0810a04-1fad-4835-bd01-e0767bd55089",
   "metadata": {},
   "source": [
    "### Para --> words & sentence --> words "
   ]
  },
  {
   "cell_type": "code",
   "execution_count": 28,
   "id": "a179449f-1168-4e8d-a121-c72f5da26724",
   "metadata": {
    "collapsed": true,
    "jupyter": {
     "outputs_hidden": true
    }
   },
   "outputs": [],
   "source": [
    "from nltk.tokenize import word_tokenize\n",
    "words = word_tokenize(corpus)"
   ]
  },
  {
   "cell_type": "code",
   "execution_count": 43,
   "id": "e019a9aa-9d9f-479c-ae4a-e6840607cab8",
   "metadata": {},
   "outputs": [
    {
     "data": {
      "text/plain": [
       "['Happiness',\n",
       " 'begins',\n",
       " 'from',\n",
       " 'the',\n",
       " 'moment',\n",
       " \"'s\",\n",
       " 'you',\n",
       " 'do',\n",
       " 'something',\n",
       " 'for',\n",
       " 'others',\n",
       " '.',\n",
       " 'Those',\n",
       " 'who',\n",
       " 'consistently',\n",
       " 'help',\n",
       " 'others',\n",
       " ',',\n",
       " 'are',\n",
       " 'happy',\n",
       " ',',\n",
       " 'and',\n",
       " 'do',\n",
       " 'not',\n",
       " 'come',\n",
       " 'across',\n",
       " 'any',\n",
       " 'obstacles',\n",
       " 'in',\n",
       " 'their',\n",
       " 'lives',\n",
       " '.',\n",
       " 'Research',\n",
       " 'indicates',\n",
       " 'that',\n",
       " 'they',\n",
       " 'are',\n",
       " 'less',\n",
       " 'stressed',\n",
       " 'and',\n",
       " 'experience',\n",
       " 'improved',\n",
       " 'mental',\n",
       " 'health',\n",
       " '.']"
      ]
     },
     "execution_count": 43,
     "metadata": {},
     "output_type": "execute_result"
    }
   ],
   "source": [
    "words"
   ]
  },
  {
   "cell_type": "code",
   "execution_count": 30,
   "id": "120b4e2e-cb43-4270-9ca0-0bd296ffe6bf",
   "metadata": {
    "collapsed": true,
    "jupyter": {
     "outputs_hidden": true
    }
   },
   "outputs": [
    {
     "data": {
      "text/plain": [
       "[['Happiness',\n",
       "  'begins',\n",
       "  'from',\n",
       "  'the',\n",
       "  'moment',\n",
       "  \"'s\",\n",
       "  'you',\n",
       "  'do',\n",
       "  'something',\n",
       "  'for',\n",
       "  'others',\n",
       "  '.'],\n",
       " ['Those',\n",
       "  'who',\n",
       "  'consistently',\n",
       "  'help',\n",
       "  'others',\n",
       "  ',',\n",
       "  'are',\n",
       "  'happy',\n",
       "  ',',\n",
       "  'and',\n",
       "  'do',\n",
       "  'not',\n",
       "  'come',\n",
       "  'across',\n",
       "  'any',\n",
       "  'obstacles',\n",
       "  'in',\n",
       "  'their',\n",
       "  'lives',\n",
       "  '.'],\n",
       " ['Research',\n",
       "  'indicates',\n",
       "  'that',\n",
       "  'they',\n",
       "  'are',\n",
       "  'less',\n",
       "  'stressed',\n",
       "  'and',\n",
       "  'experience',\n",
       "  'improved',\n",
       "  'mental',\n",
       "  'health',\n",
       "  '.']]"
      ]
     },
     "execution_count": 30,
     "metadata": {},
     "output_type": "execute_result"
    }
   ],
   "source": [
    "words_by_sent = []\n",
    "for sent in documents:\n",
    "    words_by_sent.append(word_tokenize(sent))\n",
    "words_by_sent"
   ]
  },
  {
   "cell_type": "code",
   "execution_count": 34,
   "id": "06b47621-3904-4bd8-b570-d51f5d5881b7",
   "metadata": {
    "collapsed": true,
    "jupyter": {
     "outputs_hidden": true
    }
   },
   "outputs": [
    {
     "data": {
      "text/plain": [
       "['Happiness', 'begins', 'from', 'the', 'moment', \"'\", 's', 'you']"
      ]
     },
     "execution_count": 34,
     "metadata": {},
     "output_type": "execute_result"
    }
   ],
   "source": [
    "from nltk.tokenize import wordpunct_tokenize\n",
    "wordpunct_tokenize(corpus)[:8]"
   ]
  },
  {
   "cell_type": "code",
   "execution_count": 35,
   "id": "c84ed150-2ba8-4b55-8b2e-9fb7304c3eba",
   "metadata": {
    "collapsed": true,
    "jupyter": {
     "outputs_hidden": true
    }
   },
   "outputs": [],
   "source": [
    "from nltk.tokenize import TreebankWordTokenizer"
   ]
  },
  {
   "cell_type": "code",
   "execution_count": 37,
   "id": "9e5473e4-c45e-4f2e-81d4-7d07f043b9f0",
   "metadata": {
    "collapsed": true,
    "jupyter": {
     "outputs_hidden": true
    }
   },
   "outputs": [],
   "source": [
    "tokenizer = TreebankWordTokenizer()"
   ]
  },
  {
   "cell_type": "code",
   "execution_count": 44,
   "id": "36ff76fa-a4c9-4c43-90d6-e7569f84143e",
   "metadata": {},
   "outputs": [
    {
     "data": {
      "text/plain": [
       "['Happiness', 'begins']"
      ]
     },
     "execution_count": 44,
     "metadata": {},
     "output_type": "execute_result"
    }
   ],
   "source": [
    "tokenizer.tokenize(corpus)[:2]"
   ]
  },
  {
   "cell_type": "code",
   "execution_count": null,
   "id": "38074fab-b2d5-4e31-9589-d8d7593cc19d",
   "metadata": {
    "collapsed": true,
    "jupyter": {
     "outputs_hidden": true
    }
   },
   "outputs": [],
   "source": []
  },
  {
   "cell_type": "code",
   "execution_count": null,
   "id": "f9426fd4-1e95-47d5-b3cd-085a2ffc4c2f",
   "metadata": {
    "collapsed": true,
    "jupyter": {
     "outputs_hidden": true
    }
   },
   "outputs": [],
   "source": [
    "\n"
   ]
  }
 ],
 "metadata": {
  "kernelspec": {
   "display_name": "Python 3 (ipykernel)",
   "language": "python",
   "name": "python3"
  },
  "language_info": {
   "codemirror_mode": {
    "name": "ipython",
    "version": 3
   },
   "file_extension": ".py",
   "mimetype": "text/x-python",
   "name": "python",
   "nbconvert_exporter": "python",
   "pygments_lexer": "ipython3",
   "version": "3.12.10"
  }
 },
 "nbformat": 4,
 "nbformat_minor": 5
}

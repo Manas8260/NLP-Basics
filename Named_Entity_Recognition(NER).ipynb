{
 "cells": [
  {
   "cell_type": "code",
   "execution_count": 1,
   "id": "0684b8f0-b5ae-4a45-a12e-83a6c943c3e7",
   "metadata": {},
   "outputs": [],
   "source": [
    "sentence = \"Shivaji I was an Indian ruler and a member of the Bhonsle dynasty.Shivaji carved out his own independent kingdom from worth 200Trillion the Sultanate of Bijapur that formed the genesis of the Maratha Empire. In 1674, he was formally crowned the Chhatrapati of his realm at Raigad Fort\""
   ]
  },
  {
   "cell_type": "code",
   "execution_count": 2,
   "id": "e540ff05-770f-401e-b3cf-c33f4a692c1d",
   "metadata": {},
   "outputs": [],
   "source": [
    "import nltk \n",
    "words = nltk.word_tokenize(sentence)"
   ]
  },
  {
   "cell_type": "code",
   "execution_count": 3,
   "id": "18bb2ed6-0962-43d5-b8e1-feb4eb6130c7",
   "metadata": {},
   "outputs": [],
   "source": [
    "tag_words = nltk.pos_tag(words) "
   ]
  },
  {
   "cell_type": "code",
   "execution_count": 4,
   "id": "a14f60fc-8888-4b5a-b8f4-8986ad89ae5a",
   "metadata": {},
   "outputs": [],
   "source": [
    "ner = nltk.ne_chunk(tag_words)"
   ]
  },
  {
   "cell_type": "code",
   "execution_count": 5,
   "id": "fcf3c8f0-2188-4f25-9366-77d4a1afa2db",
   "metadata": {},
   "outputs": [],
   "source": [
    "#nltk.download('words')"
   ]
  },
  {
   "cell_type": "code",
   "execution_count": 6,
   "id": "bb3ee71f-c39e-44ef-9fa9-fc3e77085b91",
   "metadata": {},
   "outputs": [
    {
     "data": {
      "text/plain": [
       "[('Shivaji', 'NNP'),\n",
       " ('I', 'PRP'),\n",
       " ('was', 'VBD'),\n",
       " ('an', 'DT'),\n",
       " Tree('GPE', [('Indian', 'JJ')]),\n",
       " ('ruler', 'NN'),\n",
       " ('and', 'CC'),\n",
       " ('a', 'DT'),\n",
       " ('member', 'NN'),\n",
       " ('of', 'IN'),\n",
       " ('the', 'DT'),\n",
       " Tree('ORGANIZATION', [('Bhonsle', 'NNP')]),\n",
       " ('dynasty.Shivaji', 'NN'),\n",
       " ('carved', 'VBD'),\n",
       " ('out', 'RP'),\n",
       " ('his', 'PRP$'),\n",
       " ('own', 'JJ'),\n",
       " ('independent', 'JJ'),\n",
       " ('kingdom', 'NN'),\n",
       " ('from', 'IN'),\n",
       " ('worth', 'JJ'),\n",
       " ('200Trillion', 'CD'),\n",
       " ('the', 'DT'),\n",
       " Tree('ORGANIZATION', [('Sultanate', 'NNP')]),\n",
       " ('of', 'IN'),\n",
       " Tree('GPE', [('Bijapur', 'NNP')]),\n",
       " ('that', 'WDT'),\n",
       " ('formed', 'VBD'),\n",
       " ('the', 'DT'),\n",
       " ('genesis', 'NN'),\n",
       " ('of', 'IN'),\n",
       " ('the', 'DT'),\n",
       " Tree('ORGANIZATION', [('Maratha', 'NNP'), ('Empire', 'NNP')]),\n",
       " ('.', '.'),\n",
       " ('In', 'IN'),\n",
       " ('1674', 'CD'),\n",
       " (',', ','),\n",
       " ('he', 'PRP'),\n",
       " ('was', 'VBD'),\n",
       " ('formally', 'RB'),\n",
       " ('crowned', 'VBN'),\n",
       " ('the', 'DT'),\n",
       " Tree('ORGANIZATION', [('Chhatrapati', 'NNP')]),\n",
       " ('of', 'IN'),\n",
       " ('his', 'PRP$'),\n",
       " ('realm', 'NN'),\n",
       " ('at', 'IN'),\n",
       " Tree('ORGANIZATION', [('Raigad', 'NNP'), ('Fort', 'NNP')])]"
      ]
     },
     "execution_count": 6,
     "metadata": {},
     "output_type": "execute_result"
    }
   ],
   "source": [
    "list(ner)"
   ]
  },
  {
   "cell_type": "code",
   "execution_count": null,
   "id": "3d512a29-f7ea-471e-8d83-d91a88dba248",
   "metadata": {},
   "outputs": [],
   "source": []
  }
 ],
 "metadata": {
  "kernelspec": {
   "display_name": "Python 3 (ipykernel)",
   "language": "python",
   "name": "python3"
  },
  "language_info": {
   "codemirror_mode": {
    "name": "ipython",
    "version": 3
   },
   "file_extension": ".py",
   "mimetype": "text/x-python",
   "name": "python",
   "nbconvert_exporter": "python",
   "pygments_lexer": "ipython3",
   "version": "3.12.10"
  }
 },
 "nbformat": 4,
 "nbformat_minor": 5
}

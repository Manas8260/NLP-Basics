{
 "cells": [
  {
   "cell_type": "code",
   "execution_count": 13,
   "id": "dc9fd7bb-9ca5-43b7-8b71-3eebcc4f831f",
   "metadata": {},
   "outputs": [],
   "source": [
    "words = ['eating','eats','going','fairly','sportingly','eaten','writing','writes','programming','programs','finally','finalize','history']"
   ]
  },
  {
   "cell_type": "code",
   "execution_count": 14,
   "id": "4dd0fdde-172d-4c6a-a719-8b98b04cba94",
   "metadata": {},
   "outputs": [],
   "source": [
    "from nltk.stem import WordNetLemmatizer "
   ]
  },
  {
   "cell_type": "code",
   "execution_count": 15,
   "id": "7b2a2645-c79f-4d9b-bc8f-8ed88cf727a7",
   "metadata": {},
   "outputs": [
    {
     "name": "stdout",
     "output_type": "stream",
     "text": [
      "eating --> eat\n",
      "eats --> eat\n",
      "going --> go\n",
      "fairly --> fairly\n",
      "sportingly --> sportingly\n",
      "eaten --> eat\n",
      "writing --> write\n",
      "writes --> write\n",
      "programming --> program\n",
      "programs --> program\n",
      "finally --> finally\n",
      "finalize --> finalize\n",
      "history --> history\n"
     ]
    }
   ],
   "source": [
    "for w in words:\n",
    "    print(w+\" --> \"+WordNetLemmatizer().lemmatize(w,pos='v'))"
   ]
  },
  {
   "cell_type": "code",
   "execution_count": null,
   "id": "5926242e-ab5c-4682-92a6-d56de6a7cc76",
   "metadata": {},
   "outputs": [],
   "source": []
  }
 ],
 "metadata": {
  "kernelspec": {
   "display_name": "Python 3 (ipykernel)",
   "language": "python",
   "name": "python3"
  },
  "language_info": {
   "codemirror_mode": {
    "name": "ipython",
    "version": 3
   },
   "file_extension": ".py",
   "mimetype": "text/x-python",
   "name": "python",
   "nbconvert_exporter": "python",
   "pygments_lexer": "ipython3",
   "version": "3.12.10"
  }
 },
 "nbformat": 4,
 "nbformat_minor": 5
}
